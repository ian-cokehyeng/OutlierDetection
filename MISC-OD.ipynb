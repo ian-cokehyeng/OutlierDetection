{
 "cells": [
  {
   "cell_type": "markdown",
   "metadata": {},
   "source": [
    "# **Anomaly Detection using MISC-OD**"
   ]
  },
  {
   "cell_type": "markdown",
   "metadata": {},
   "source": [
    "The `MISC-OD` (Mutual Information and Reduced Spectral Clustering - Outlier Detection) algorithm was evaluated in comparison to the Local Outlier Factor (LOF) and Isolation Forest methods for novelty detection using a version of the `Wisconsin Breast Cancer (Diagnostics) dataset`.\n",
    "\n",
    "For detailed insights into this methodology, please refer to the following reference: [*A Novel Unsupervised Outlier Detection Algorithm Based on Mutual Information and Reduced Spectral Clustering*](https://www.mdpi.com/2079-9292/12/23)\n",
    "\n",
    "---\n"
   ]
  },
  {
   "cell_type": "markdown",
   "metadata": {},
   "source": [
    "## Results"
   ]
  },
  {
   "cell_type": "markdown",
   "metadata": {},
   "source": [
    "MISC-OD had a high ROC comparable to Isolation Forest, albeit slightly lower. Despite this, its AUPRC and Average Precision were higher. LOF had higher AUPRC and AP to MISC-OD but had a lower ROC. In conclusion, each model demonstrated merits depending on the evaluation metric.\n"
   ]
  },
  {
   "cell_type": "markdown",
   "metadata": {},
   "source": [
    "| Model    | ROC   | AUPRC   | AP    |\n",
    "|----------|-------|-------|-------|\n",
    "| MISC-OD  | 0.956 | 0.811 | 0.713 |\n",
    "| LOF      | 0.901 | 0.857 | 0.735 |\n",
    "| IsoForest| 0.967 | 0.670 | 0.681 |\n"
   ]
  },
  {
   "cell_type": "markdown",
   "metadata": {},
   "source": [
    "# Execution"
   ]
  },
  {
   "cell_type": "markdown",
   "metadata": {},
   "source": [
    "## Libraries"
   ]
  },
  {
   "cell_type": "code",
   "execution_count": 14,
   "metadata": {},
   "outputs": [],
   "source": [
    "import pandas as pd\n",
    "import numpy as np\n",
    "import scipy.io\n",
    "import matplotlib.pyplot as plt\n",
    "import warnings\n",
    "\n",
    "from sklearn.cluster import KMeans\n",
    "from sklearn.ensemble import IsolationForest\n",
    "from sklearn.feature_selection import mutual_info_regression\n",
    "from sklearn.metrics import roc_curve, auc, average_precision_score, precision_recall_curve\n",
    "from sklearn.neighbors import LocalOutlierFactor\n",
    "from sklearn.preprocessing import StandardScaler\n",
    "\n",
    "warnings.filterwarnings('ignore')"
   ]
  },
  {
   "cell_type": "markdown",
   "metadata": {},
   "source": [
    "## Data Loading and Preprocessing"
   ]
  },
  {
   "cell_type": "markdown",
   "metadata": {},
   "source": [
    "The original Wisconsin-Breast Cancer (Diagnostics) dataset (WBC) from UCI machine learning repository is a classification dataset, which records the measurements for breast cancer cases. There are two classes, benign and malignant. The malignant class of this dataset is downsampled to 21 points, which are considered as outliers, while points in the benign class are considered inliers.\n",
    "\n",
    "---\n",
    "\n",
    "Data retrieved from: <br>\n",
    "[Stony Brook University ODDS Library: Breast Cancer Wisconsin (Original) Dataset](https://odds.cs.stonybrook.edu/wbc/) (Accessed May 14, 2024)"
   ]
  },
  {
   "cell_type": "code",
   "execution_count": 15,
   "metadata": {},
   "outputs": [
    {
     "data": {
      "text/html": [
       "<div>\n",
       "<style scoped>\n",
       "    .dataframe tbody tr th:only-of-type {\n",
       "        vertical-align: middle;\n",
       "    }\n",
       "\n",
       "    .dataframe tbody tr th {\n",
       "        vertical-align: top;\n",
       "    }\n",
       "\n",
       "    .dataframe thead th {\n",
       "        text-align: right;\n",
       "    }\n",
       "</style>\n",
       "<table border=\"1\" class=\"dataframe\">\n",
       "  <thead>\n",
       "    <tr style=\"text-align: right;\">\n",
       "      <th></th>\n",
       "      <th>radius1</th>\n",
       "      <th>texture1</th>\n",
       "      <th>perimeter1</th>\n",
       "      <th>area1</th>\n",
       "      <th>smoothness1</th>\n",
       "      <th>compactness1</th>\n",
       "      <th>concavity1</th>\n",
       "      <th>concave_points1</th>\n",
       "      <th>symmetry1</th>\n",
       "      <th>fractal_dimension1</th>\n",
       "      <th>...</th>\n",
       "      <th>radius3</th>\n",
       "      <th>texture3</th>\n",
       "      <th>perimeter3</th>\n",
       "      <th>area3</th>\n",
       "      <th>smoothness3</th>\n",
       "      <th>compactness3</th>\n",
       "      <th>concavity3</th>\n",
       "      <th>concave_points3</th>\n",
       "      <th>symmetry3</th>\n",
       "      <th>fractal_dimension3</th>\n",
       "    </tr>\n",
       "  </thead>\n",
       "  <tbody>\n",
       "    <tr>\n",
       "      <th>0</th>\n",
       "      <td>0.310426</td>\n",
       "      <td>0.157254</td>\n",
       "      <td>0.301776</td>\n",
       "      <td>0.179343</td>\n",
       "      <td>0.407692</td>\n",
       "      <td>0.189896</td>\n",
       "      <td>0.156139</td>\n",
       "      <td>0.237624</td>\n",
       "      <td>0.416667</td>\n",
       "      <td>0.162174</td>\n",
       "      <td>...</td>\n",
       "      <td>0.255425</td>\n",
       "      <td>0.192964</td>\n",
       "      <td>0.245480</td>\n",
       "      <td>0.129276</td>\n",
       "      <td>0.480948</td>\n",
       "      <td>0.145540</td>\n",
       "      <td>0.190895</td>\n",
       "      <td>0.442612</td>\n",
       "      <td>0.278336</td>\n",
       "      <td>0.115112</td>\n",
       "    </tr>\n",
       "    <tr>\n",
       "      <th>1</th>\n",
       "      <td>0.288655</td>\n",
       "      <td>0.202908</td>\n",
       "      <td>0.289130</td>\n",
       "      <td>0.159703</td>\n",
       "      <td>0.495351</td>\n",
       "      <td>0.330102</td>\n",
       "      <td>0.107029</td>\n",
       "      <td>0.154573</td>\n",
       "      <td>0.458081</td>\n",
       "      <td>0.382266</td>\n",
       "      <td>...</td>\n",
       "      <td>0.233725</td>\n",
       "      <td>0.225746</td>\n",
       "      <td>0.227501</td>\n",
       "      <td>0.109443</td>\n",
       "      <td>0.396421</td>\n",
       "      <td>0.242852</td>\n",
       "      <td>0.150958</td>\n",
       "      <td>0.250275</td>\n",
       "      <td>0.319141</td>\n",
       "      <td>0.175718</td>\n",
       "    </tr>\n",
       "    <tr>\n",
       "      <th>2</th>\n",
       "      <td>0.119409</td>\n",
       "      <td>0.092323</td>\n",
       "      <td>0.114367</td>\n",
       "      <td>0.055313</td>\n",
       "      <td>0.449309</td>\n",
       "      <td>0.139685</td>\n",
       "      <td>0.069260</td>\n",
       "      <td>0.103181</td>\n",
       "      <td>0.381313</td>\n",
       "      <td>0.402064</td>\n",
       "      <td>...</td>\n",
       "      <td>0.081821</td>\n",
       "      <td>0.097015</td>\n",
       "      <td>0.073310</td>\n",
       "      <td>0.031877</td>\n",
       "      <td>0.404345</td>\n",
       "      <td>0.084903</td>\n",
       "      <td>0.070823</td>\n",
       "      <td>0.213986</td>\n",
       "      <td>0.174453</td>\n",
       "      <td>0.148826</td>\n",
       "    </tr>\n",
       "  </tbody>\n",
       "</table>\n",
       "<p>3 rows × 30 columns</p>\n",
       "</div>"
      ],
      "text/plain": [
       "    radius1  texture1  perimeter1     area1  smoothness1  compactness1  \\\n",
       "0  0.310426  0.157254    0.301776  0.179343     0.407692      0.189896   \n",
       "1  0.288655  0.202908    0.289130  0.159703     0.495351      0.330102   \n",
       "2  0.119409  0.092323    0.114367  0.055313     0.449309      0.139685   \n",
       "\n",
       "   concavity1  concave_points1  symmetry1  fractal_dimension1  ...   radius3  \\\n",
       "0    0.156139         0.237624   0.416667            0.162174  ...  0.255425   \n",
       "1    0.107029         0.154573   0.458081            0.382266  ...  0.233725   \n",
       "2    0.069260         0.103181   0.381313            0.402064  ...  0.081821   \n",
       "\n",
       "   texture3  perimeter3     area3  smoothness3  compactness3  concavity3  \\\n",
       "0  0.192964    0.245480  0.129276     0.480948      0.145540    0.190895   \n",
       "1  0.225746    0.227501  0.109443     0.396421      0.242852    0.150958   \n",
       "2  0.097015    0.073310  0.031877     0.404345      0.084903    0.070823   \n",
       "\n",
       "   concave_points3  symmetry3  fractal_dimension3  \n",
       "0         0.442612   0.278336            0.115112  \n",
       "1         0.250275   0.319141            0.175718  \n",
       "2         0.213986   0.174453            0.148826  \n",
       "\n",
       "[3 rows x 30 columns]"
      ]
     },
     "execution_count": 15,
     "metadata": {},
     "output_type": "execute_result"
    }
   ],
   "source": [
    "cols = ['radius1', 'texture1', 'perimeter1', 'area1', 'smoothness1',\n",
    "        'compactness1', 'concavity1', 'concave_points1', 'symmetry1',\n",
    "        'fractal_dimension1', 'radius2', 'texture2', 'perimeter2', 'area2',\n",
    "        'smoothness2', 'compactness2', 'concavity2', 'concave_points2',\n",
    "        'symmetry2', 'fractal_dimension2', 'radius3', 'texture3', 'perimeter3',\n",
    "        'area3', 'smoothness3', 'compactness3', 'concavity3', 'concave_points3',\n",
    "        'symmetry3', 'fractal_dimension3']\n",
    "\n",
    "mat_data = scipy.io.loadmat('wbc.mat')\n",
    "X = mat_data['X']\n",
    "y = mat_data['y'].reshape(-1)\n",
    "\n",
    "df_features = pd.DataFrame(data=X, columns=cols)\n",
    "df_features.head(3)"
   ]
  },
  {
   "cell_type": "code",
   "execution_count": 16,
   "metadata": {},
   "outputs": [
    {
     "data": {
      "text/html": [
       "<div>\n",
       "<style scoped>\n",
       "    .dataframe tbody tr th:only-of-type {\n",
       "        vertical-align: middle;\n",
       "    }\n",
       "\n",
       "    .dataframe tbody tr th {\n",
       "        vertical-align: top;\n",
       "    }\n",
       "\n",
       "    .dataframe thead th {\n",
       "        text-align: right;\n",
       "    }\n",
       "</style>\n",
       "<table border=\"1\" class=\"dataframe\">\n",
       "  <thead>\n",
       "    <tr style=\"text-align: right;\">\n",
       "      <th></th>\n",
       "      <th>radius1</th>\n",
       "      <th>texture1</th>\n",
       "      <th>perimeter1</th>\n",
       "      <th>area1</th>\n",
       "      <th>smoothness1</th>\n",
       "      <th>compactness1</th>\n",
       "      <th>concavity1</th>\n",
       "      <th>concave_points1</th>\n",
       "      <th>symmetry1</th>\n",
       "      <th>fractal_dimension1</th>\n",
       "      <th>...</th>\n",
       "      <th>radius3</th>\n",
       "      <th>texture3</th>\n",
       "      <th>perimeter3</th>\n",
       "      <th>area3</th>\n",
       "      <th>smoothness3</th>\n",
       "      <th>compactness3</th>\n",
       "      <th>concavity3</th>\n",
       "      <th>concave_points3</th>\n",
       "      <th>symmetry3</th>\n",
       "      <th>fractal_dimension3</th>\n",
       "    </tr>\n",
       "  </thead>\n",
       "  <tbody>\n",
       "    <tr>\n",
       "      <th>count</th>\n",
       "      <td>378.000000</td>\n",
       "      <td>378.000000</td>\n",
       "      <td>378.000000</td>\n",
       "      <td>378.000000</td>\n",
       "      <td>378.000000</td>\n",
       "      <td>378.000000</td>\n",
       "      <td>378.000000</td>\n",
       "      <td>378.000000</td>\n",
       "      <td>378.000000</td>\n",
       "      <td>378.000000</td>\n",
       "      <td>...</td>\n",
       "      <td>378.000000</td>\n",
       "      <td>378.000000</td>\n",
       "      <td>378.000000</td>\n",
       "      <td>378.000000</td>\n",
       "      <td>378.000000</td>\n",
       "      <td>378.000000</td>\n",
       "      <td>378.000000</td>\n",
       "      <td>378.000000</td>\n",
       "      <td>378.000000</td>\n",
       "      <td>378.000000</td>\n",
       "    </tr>\n",
       "    <tr>\n",
       "      <th>mean</th>\n",
       "      <td>0.255100</td>\n",
       "      <td>0.286028</td>\n",
       "      <td>0.248241</td>\n",
       "      <td>0.144444</td>\n",
       "      <td>0.367621</td>\n",
       "      <td>0.200831</td>\n",
       "      <td>0.125377</td>\n",
       "      <td>0.146490</td>\n",
       "      <td>0.352271</td>\n",
       "      <td>0.276147</td>\n",
       "      <td>...</td>\n",
       "      <td>0.207091</td>\n",
       "      <td>0.318102</td>\n",
       "      <td>0.195870</td>\n",
       "      <td>0.102009</td>\n",
       "      <td>0.365690</td>\n",
       "      <td>0.165125</td>\n",
       "      <td>0.148847</td>\n",
       "      <td>0.279099</td>\n",
       "      <td>0.232921</td>\n",
       "      <td>0.168817</td>\n",
       "    </tr>\n",
       "    <tr>\n",
       "      <th>std</th>\n",
       "      <td>0.100344</td>\n",
       "      <td>0.143315</td>\n",
       "      <td>0.099615</td>\n",
       "      <td>0.075817</td>\n",
       "      <td>0.125914</td>\n",
       "      <td>0.124455</td>\n",
       "      <td>0.131000</td>\n",
       "      <td>0.117235</td>\n",
       "      <td>0.129816</td>\n",
       "      <td>0.144080</td>\n",
       "      <td>...</td>\n",
       "      <td>0.097739</td>\n",
       "      <td>0.156072</td>\n",
       "      <td>0.096841</td>\n",
       "      <td>0.069345</td>\n",
       "      <td>0.140127</td>\n",
       "      <td>0.115264</td>\n",
       "      <td>0.134176</td>\n",
       "      <td>0.159570</td>\n",
       "      <td>0.093873</td>\n",
       "      <td>0.105667</td>\n",
       "    </tr>\n",
       "    <tr>\n",
       "      <th>min</th>\n",
       "      <td>0.000000</td>\n",
       "      <td>0.000000</td>\n",
       "      <td>0.000000</td>\n",
       "      <td>0.000000</td>\n",
       "      <td>0.000000</td>\n",
       "      <td>0.000000</td>\n",
       "      <td>0.000000</td>\n",
       "      <td>0.000000</td>\n",
       "      <td>0.000000</td>\n",
       "      <td>0.039806</td>\n",
       "      <td>...</td>\n",
       "      <td>0.000000</td>\n",
       "      <td>0.000000</td>\n",
       "      <td>0.000000</td>\n",
       "      <td>0.000000</td>\n",
       "      <td>0.000000</td>\n",
       "      <td>0.000000</td>\n",
       "      <td>0.000000</td>\n",
       "      <td>0.000000</td>\n",
       "      <td>0.000197</td>\n",
       "      <td>0.001115</td>\n",
       "    </tr>\n",
       "    <tr>\n",
       "      <th>25%</th>\n",
       "      <td>0.196957</td>\n",
       "      <td>0.185238</td>\n",
       "      <td>0.190243</td>\n",
       "      <td>0.100870</td>\n",
       "      <td>0.279904</td>\n",
       "      <td>0.115085</td>\n",
       "      <td>0.049783</td>\n",
       "      <td>0.077411</td>\n",
       "      <td>0.267298</td>\n",
       "      <td>0.181971</td>\n",
       "      <td>...</td>\n",
       "      <td>0.153771</td>\n",
       "      <td>0.203292</td>\n",
       "      <td>0.143272</td>\n",
       "      <td>0.066942</td>\n",
       "      <td>0.266493</td>\n",
       "      <td>0.086358</td>\n",
       "      <td>0.064065</td>\n",
       "      <td>0.185601</td>\n",
       "      <td>0.171151</td>\n",
       "      <td>0.099403</td>\n",
       "    </tr>\n",
       "    <tr>\n",
       "      <th>50%</th>\n",
       "      <td>0.251029</td>\n",
       "      <td>0.264964</td>\n",
       "      <td>0.241103</td>\n",
       "      <td>0.136055</td>\n",
       "      <td>0.358626</td>\n",
       "      <td>0.175541</td>\n",
       "      <td>0.091061</td>\n",
       "      <td>0.120204</td>\n",
       "      <td>0.334596</td>\n",
       "      <td>0.246630</td>\n",
       "      <td>...</td>\n",
       "      <td>0.197439</td>\n",
       "      <td>0.293310</td>\n",
       "      <td>0.184173</td>\n",
       "      <td>0.090309</td>\n",
       "      <td>0.365053</td>\n",
       "      <td>0.143406</td>\n",
       "      <td>0.118291</td>\n",
       "      <td>0.270893</td>\n",
       "      <td>0.224522</td>\n",
       "      <td>0.148006</td>\n",
       "    </tr>\n",
       "    <tr>\n",
       "      <th>75%</th>\n",
       "      <td>0.311136</td>\n",
       "      <td>0.354329</td>\n",
       "      <td>0.301119</td>\n",
       "      <td>0.178865</td>\n",
       "      <td>0.446601</td>\n",
       "      <td>0.258788</td>\n",
       "      <td>0.155746</td>\n",
       "      <td>0.176615</td>\n",
       "      <td>0.430051</td>\n",
       "      <td>0.337984</td>\n",
       "      <td>...</td>\n",
       "      <td>0.250800</td>\n",
       "      <td>0.401652</td>\n",
       "      <td>0.236416</td>\n",
       "      <td>0.123661</td>\n",
       "      <td>0.449581</td>\n",
       "      <td>0.211830</td>\n",
       "      <td>0.193990</td>\n",
       "      <td>0.349485</td>\n",
       "      <td>0.289227</td>\n",
       "      <td>0.212613</td>\n",
       "    </tr>\n",
       "    <tr>\n",
       "      <th>max</th>\n",
       "      <td>0.768091</td>\n",
       "      <td>1.000000</td>\n",
       "      <td>0.758137</td>\n",
       "      <td>0.647508</td>\n",
       "      <td>1.000000</td>\n",
       "      <td>0.792037</td>\n",
       "      <td>0.999063</td>\n",
       "      <td>0.906064</td>\n",
       "      <td>0.850000</td>\n",
       "      <td>0.964406</td>\n",
       "      <td>...</td>\n",
       "      <td>0.821060</td>\n",
       "      <td>0.875533</td>\n",
       "      <td>0.778873</td>\n",
       "      <td>0.678038</td>\n",
       "      <td>0.854718</td>\n",
       "      <td>1.000000</td>\n",
       "      <td>1.000000</td>\n",
       "      <td>1.000000</td>\n",
       "      <td>0.622708</td>\n",
       "      <td>1.000000</td>\n",
       "    </tr>\n",
       "  </tbody>\n",
       "</table>\n",
       "<p>8 rows × 30 columns</p>\n",
       "</div>"
      ],
      "text/plain": [
       "          radius1    texture1  perimeter1       area1  smoothness1  \\\n",
       "count  378.000000  378.000000  378.000000  378.000000   378.000000   \n",
       "mean     0.255100    0.286028    0.248241    0.144444     0.367621   \n",
       "std      0.100344    0.143315    0.099615    0.075817     0.125914   \n",
       "min      0.000000    0.000000    0.000000    0.000000     0.000000   \n",
       "25%      0.196957    0.185238    0.190243    0.100870     0.279904   \n",
       "50%      0.251029    0.264964    0.241103    0.136055     0.358626   \n",
       "75%      0.311136    0.354329    0.301119    0.178865     0.446601   \n",
       "max      0.768091    1.000000    0.758137    0.647508     1.000000   \n",
       "\n",
       "       compactness1  concavity1  concave_points1   symmetry1  \\\n",
       "count    378.000000  378.000000       378.000000  378.000000   \n",
       "mean       0.200831    0.125377         0.146490    0.352271   \n",
       "std        0.124455    0.131000         0.117235    0.129816   \n",
       "min        0.000000    0.000000         0.000000    0.000000   \n",
       "25%        0.115085    0.049783         0.077411    0.267298   \n",
       "50%        0.175541    0.091061         0.120204    0.334596   \n",
       "75%        0.258788    0.155746         0.176615    0.430051   \n",
       "max        0.792037    0.999063         0.906064    0.850000   \n",
       "\n",
       "       fractal_dimension1  ...     radius3    texture3  perimeter3  \\\n",
       "count          378.000000  ...  378.000000  378.000000  378.000000   \n",
       "mean             0.276147  ...    0.207091    0.318102    0.195870   \n",
       "std              0.144080  ...    0.097739    0.156072    0.096841   \n",
       "min              0.039806  ...    0.000000    0.000000    0.000000   \n",
       "25%              0.181971  ...    0.153771    0.203292    0.143272   \n",
       "50%              0.246630  ...    0.197439    0.293310    0.184173   \n",
       "75%              0.337984  ...    0.250800    0.401652    0.236416   \n",
       "max              0.964406  ...    0.821060    0.875533    0.778873   \n",
       "\n",
       "            area3  smoothness3  compactness3  concavity3  concave_points3  \\\n",
       "count  378.000000   378.000000    378.000000  378.000000       378.000000   \n",
       "mean     0.102009     0.365690      0.165125    0.148847         0.279099   \n",
       "std      0.069345     0.140127      0.115264    0.134176         0.159570   \n",
       "min      0.000000     0.000000      0.000000    0.000000         0.000000   \n",
       "25%      0.066942     0.266493      0.086358    0.064065         0.185601   \n",
       "50%      0.090309     0.365053      0.143406    0.118291         0.270893   \n",
       "75%      0.123661     0.449581      0.211830    0.193990         0.349485   \n",
       "max      0.678038     0.854718      1.000000    1.000000         1.000000   \n",
       "\n",
       "        symmetry3  fractal_dimension3  \n",
       "count  378.000000          378.000000  \n",
       "mean     0.232921            0.168817  \n",
       "std      0.093873            0.105667  \n",
       "min      0.000197            0.001115  \n",
       "25%      0.171151            0.099403  \n",
       "50%      0.224522            0.148006  \n",
       "75%      0.289227            0.212613  \n",
       "max      0.622708            1.000000  \n",
       "\n",
       "[8 rows x 30 columns]"
      ]
     },
     "execution_count": 16,
     "metadata": {},
     "output_type": "execute_result"
    }
   ],
   "source": [
    "df_features.describe()"
   ]
  },
  {
   "cell_type": "markdown",
   "metadata": {},
   "source": [
    "## Data Preprocessing"
   ]
  },
  {
   "cell_type": "code",
   "execution_count": 17,
   "metadata": {},
   "outputs": [],
   "source": [
    "scaler = StandardScaler()\n",
    "inliers = X[y == 0]\n",
    "inliers = scaler.fit_transform(inliers)\n",
    "X = scaler.transform(X)"
   ]
  },
  {
   "cell_type": "markdown",
   "metadata": {},
   "source": [
    "## Baselines"
   ]
  },
  {
   "cell_type": "markdown",
   "metadata": {},
   "source": [
    "### LOF"
   ]
  },
  {
   "cell_type": "code",
   "execution_count": 18,
   "metadata": {},
   "outputs": [
    {
     "name": "stdout",
     "output_type": "stream",
     "text": [
      "{'Model': 'LOF', 'roc': 0.9019607843137255, 'auprc': 0.8574213311055416, 'ap': 0.7348927875243665}\n"
     ]
    }
   ],
   "source": [
    "baseline_data = []\n",
    "\n",
    "best_score = 0\n",
    "for n in range(2, 30):\n",
    "    lof = LocalOutlierFactor(n_neighbors=n, novelty=True)\n",
    "    lof.fit(inliers)\n",
    "    scores = lof.predict(X)\n",
    "\n",
    "    fpr, tpr, thresholds = roc_curve(y, -scores)\n",
    "    roc_auc = auc(fpr, tpr)\n",
    "\n",
    "    pr, rc, thr = precision_recall_curve(y, -scores)\n",
    "    auprc = auc(rc, pr)\n",
    "\n",
    "    ap = average_precision_score(y, -scores)\n",
    "\n",
    "    if roc_auc > best_score:\n",
    "        best_score = roc_auc\n",
    "        res = {'Model': 'LOF',\n",
    "               'roc': roc_auc,\n",
    "               'auprc': auprc,\n",
    "               'ap': ap}\n",
    "\n",
    "baseline_data.append(res)\n",
    "print(res)"
   ]
  },
  {
   "cell_type": "markdown",
   "metadata": {},
   "source": [
    "### Isolation Forest"
   ]
  },
  {
   "cell_type": "code",
   "execution_count": 19,
   "metadata": {},
   "outputs": [
    {
     "name": "stdout",
     "output_type": "stream",
     "text": [
      "{'Model': 'IsoForest', 'roc': 0.9666533279978657, 'auprc': 0.6703144870482183, 'ap': 0.6805501260777997}\n"
     ]
    }
   ],
   "source": [
    "\n",
    "isolationforest = IsolationForest(random_state=42)\n",
    "isolationforest.fit(inliers)\n",
    "scores = isolationforest.score_samples(X)\n",
    "\n",
    "fpr, tpr, thresholds = roc_curve(y, -scores)\n",
    "roc_auc = auc(fpr, tpr)\n",
    "pr, rc, thr = precision_recall_curve(y, -scores)\n",
    "auprc = auc(rc, pr)\n",
    "ap = average_precision_score(y, -scores)\n",
    "\n",
    "res = {'Model': 'IsoForest',\n",
    "       'roc': roc_auc,\n",
    "       'auprc': auprc,\n",
    "       'ap': ap}\n",
    "\n",
    "baseline_data.append(res)\n",
    "print(res)"
   ]
  },
  {
   "cell_type": "markdown",
   "metadata": {},
   "source": [
    "## MISC-OD"
   ]
  },
  {
   "cell_type": "markdown",
   "metadata": {},
   "source": [
    "### Initial Demonstration"
   ]
  },
  {
   "cell_type": "code",
   "execution_count": 20,
   "metadata": {},
   "outputs": [],
   "source": [
    "def mutual_information_matrix(X):\n",
    "    W = np.zeros((X.shape[1], X.shape[1]))\n",
    "    d = X.shape[1]\n",
    "\n",
    "    for i in range(d):\n",
    "        for j in range(i+1, d):\n",
    "            W[i, j] = mutual_info_regression(\n",
    "                X[:, i].reshape(-1, 1), X[:, j])[0]\n",
    "            W[j, i] = W[i, j]\n",
    "    return W\n",
    "\n",
    "\n",
    "def k_smallest_eigenvectors(W, k):\n",
    "    D = np.diag(np.sum(W, axis=1))\n",
    "    L_unnormalized = D - W\n",
    "\n",
    "    D_sqrt_inv = np.sqrt(np.linalg.inv(D))\n",
    "    L_normalized = np.dot(np.dot(D_sqrt_inv, L_unnormalized), D_sqrt_inv)\n",
    "\n",
    "    eigenvalues, eigenvectors = np.linalg.eig(L_normalized)\n",
    "    idx = eigenvalues.argsort()[1:k+1]\n",
    "    k_smallest_eigenvectors = eigenvectors[:, idx]\n",
    "\n",
    "    return k_smallest_eigenvectors\n",
    "\n",
    "\n",
    "mi_matrix = mutual_information_matrix(inliers)\n",
    "k_EV = k_smallest_eigenvectors(mi_matrix, 2)"
   ]
  },
  {
   "cell_type": "code",
   "execution_count": 21,
   "metadata": {},
   "outputs": [
    {
     "data": {
      "image/png": "[encoded data removed]",
      "text/plain": [
       "<Figure size 640x480 with 1 Axes>"
      ]
     },
     "metadata": {},
     "output_type": "display_data"
    }
   ],
   "source": [
    "wcss = []\n",
    "for k in range(2, 11):\n",
    "    kmeans = KMeans(n_clusters=k, random_state=0, n_init='auto')\n",
    "    kmeans.fit(k_EV)\n",
    "    wcss.append(kmeans.inertia_)\n",
    "\n",
    "# Plot the elbow curve\n",
    "plt.plot(range(2, 11), wcss)\n",
    "plt.xlabel('Number of clusters')\n",
    "plt.ylabel('WCSS')\n",
    "plt.title('Elbow Method')\n",
    "plt.show()"
   ]
  },
  {
   "cell_type": "code",
   "execution_count": 22,
   "metadata": {},
   "outputs": [],
   "source": [
    "kmeans = KMeans(n_clusters=3, random_state=0).fit(k_EV)\n",
    "cluster_labels = kmeans.labels_\n",
    "clusters = {label: [i for i, l in enumerate(\n",
    "    kmeans.labels_) if l == label] for label in set(kmeans.labels_)}"
   ]
  },
  {
   "cell_type": "code",
   "execution_count": 23,
   "metadata": {},
   "outputs": [
    {
     "name": "stdout",
     "output_type": "stream",
     "text": [
      "Cluster 0: ['smoothness1', 'compactness1', 'concavity1', 'concave_points1', 'symmetry1', 'fractal_dimension1', 'smoothness2', 'compactness2', 'concavity2', 'concave_points2', 'symmetry2', 'fractal_dimension2', 'smoothness3', 'compactness3', 'concavity3', 'concave_points3', 'symmetry3', 'fractal_dimension3']\n",
      "Cluster 1: ['radius1', 'perimeter1', 'area1', 'radius3', 'perimeter3', 'area3']\n",
      "Cluster 2: ['texture1', 'radius2', 'texture2', 'perimeter2', 'area2', 'texture3']\n"
     ]
    }
   ],
   "source": [
    "for k, v in clusters.items():\n",
    "    print(f\"Cluster {k}: {[cols[i] for i in v]}\")"
   ]
  },
  {
   "cell_type": "markdown",
   "metadata": {},
   "source": [
    "## Initial Scoring"
   ]
  },
  {
   "cell_type": "code",
   "execution_count": 24,
   "metadata": {},
   "outputs": [
    {
     "data": {
      "text/plain": [
       "0.846938775510204"
      ]
     },
     "execution_count": 24,
     "metadata": {},
     "output_type": "execute_result"
    }
   ],
   "source": [
    "o_scores = []\n",
    "for _, i in clusters.items():\n",
    "    data_subset = X[:, i]\n",
    "    lof = LocalOutlierFactor(n_neighbors=30, novelty=True)\n",
    "    lof.fit(inliers[:, i])\n",
    "    scores = lof.predict(data_subset)\n",
    "    o_scores.append(-scores)\n",
    "\n",
    "aggregate_scores = np.sum(o_scores, axis=0)\n",
    "fpr, tpr, thresholds = roc_curve(y, aggregate_scores)\n",
    "roc_auc = auc(fpr, tpr)\n",
    "roc_auc"
   ]
  },
  {
   "cell_type": "code",
   "execution_count": 25,
   "metadata": {},
   "outputs": [
    {
     "data": {
      "image/png": "[encoded data removed]",
      "text/plain": [
       "<Figure size 640x480 with 1 Axes>"
      ]
     },
     "metadata": {},
     "output_type": "display_data"
    }
   ],
   "source": [
    "plt.figure()\n",
    "plt.plot(fpr, tpr, color='darkorange', lw=2,\n",
    "         label='ROC curve (area = %0.3f)' % roc_auc)\n",
    "plt.plot([0, 1], [0, 1], color='navy', lw=2, linestyle='--')\n",
    "plt.xlim([0.0, 1.0])\n",
    "plt.ylim([0.0, 1.05])\n",
    "plt.xlabel('False Positive Rate')\n",
    "plt.ylabel('True Positive Rate')\n",
    "plt.title('Receiver Operating Characteristic')\n",
    "plt.legend(loc=\"lower right\")\n",
    "plt.show()"
   ]
  },
  {
   "cell_type": "markdown",
   "metadata": {},
   "source": [
    "## Hyperparameter Tuning"
   ]
  },
  {
   "cell_type": "code",
   "execution_count": 26,
   "metadata": {},
   "outputs": [],
   "source": [
    "def auto_MISC_OD(X,\n",
    "                 y,\n",
    "                 min_k_eigvec=1,\n",
    "                 max_k_eigvec=5,\n",
    "                 min_n_neighbors=20,\n",
    "                 max_n_neighbors=25,\n",
    "                 min_k_clusters=2,\n",
    "                 max_k_clusters=5):\n",
    "\n",
    "    inliers = X[y == 0]\n",
    "    mi_matrix = mutual_information_matrix(inliers)\n",
    "    best_score = 0\n",
    "\n",
    "    for k_eigvecs in range(min_k_eigvec, max_k_eigvec+1):\n",
    "        k_EV = k_smallest_eigenvectors(mi_matrix, k_eigvecs)\n",
    "        \n",
    "        for k_clusters in range(min_k_clusters, max_k_clusters+1):\n",
    "            kmeans = KMeans(n_clusters=k_clusters, random_state=0).fit(k_EV)\n",
    "            cluster_labels = kmeans.labels_\n",
    "            clusters = {label: [i for i, l in enumerate(\n",
    "                kmeans.labels_) if l == label] for label in set(kmeans.labels_)}\n",
    "        \n",
    "            for n in range(min_n_neighbors, max_n_neighbors+1):\n",
    "                o_scores = []\n",
    "                for _, i in clusters.items():\n",
    "                    data_subset = X[:, i]\n",
    "                    lof = LocalOutlierFactor(n_neighbors=n, novelty=True)\n",
    "                    lof.fit(inliers[:, i])\n",
    "                    scores = lof.predict(data_subset)\n",
    "                    o_scores.append(-scores)\n",
    "\n",
    "                aggregate_scores = np.sum(o_scores, axis=0)\n",
    "                fpr, tpr, thresholds = roc_curve(y, aggregate_scores)\n",
    "                roc_auc = auc(fpr, tpr)\n",
    "                \n",
    "                if roc_auc > best_score:\n",
    "                    best_score = roc_auc\n",
    "                    pr, rc, thr = precision_recall_curve(y, aggregate_scores)\n",
    "                    auprc = auc(rc, pr)\n",
    "                    res_dict = {\n",
    "                        'Model': 'MISC-OD',\n",
    "                        'roc': roc_auc,\n",
    "                        'auprc': auprc,\n",
    "                        'ap': average_precision_score(y, aggregate_scores)\n",
    "                    }\n",
    "    return res_dict\n",
    "\n",
    "res = auto_MISC_OD(\n",
    "    X,\n",
    "    y,\n",
    "    min_k_eigvec=1,\n",
    "    max_k_eigvec=5,\n",
    "    min_n_neighbors=10,\n",
    "    max_n_neighbors=30,\n",
    "    min_k_clusters=2,\n",
    "    max_k_clusters=5\n",
    ")\n",
    "\n",
    "baseline_data.append(res)"
   ]
  },
  {
   "cell_type": "markdown",
   "metadata": {},
   "source": [
    "## Final Result"
   ]
  },
  {
   "cell_type": "code",
   "execution_count": 28,
   "metadata": {},
   "outputs": [
    {
     "data": {
      "text/html": [
       "<div>\n",
       "<style scoped>\n",
       "    .dataframe tbody tr th:only-of-type {\n",
       "        vertical-align: middle;\n",
       "    }\n",
       "\n",
       "    .dataframe tbody tr th {\n",
       "        vertical-align: top;\n",
       "    }\n",
       "\n",
       "    .dataframe thead th {\n",
       "        text-align: right;\n",
       "    }\n",
       "</style>\n",
       "<table border=\"1\" class=\"dataframe\">\n",
       "  <thead>\n",
       "    <tr style=\"text-align: right;\">\n",
       "      <th></th>\n",
       "      <th>Model</th>\n",
       "      <th>roc</th>\n",
       "      <th>auprc</th>\n",
       "      <th>ap</th>\n",
       "    </tr>\n",
       "  </thead>\n",
       "  <tbody>\n",
       "    <tr>\n",
       "      <th>0</th>\n",
       "      <td>LOF</td>\n",
       "      <td>0.901961</td>\n",
       "      <td>0.857421</td>\n",
       "      <td>0.734893</td>\n",
       "    </tr>\n",
       "    <tr>\n",
       "      <th>1</th>\n",
       "      <td>IsoForest</td>\n",
       "      <td>0.966653</td>\n",
       "      <td>0.670314</td>\n",
       "      <td>0.680550</td>\n",
       "    </tr>\n",
       "    <tr>\n",
       "      <th>2</th>\n",
       "      <td>MISC-OD</td>\n",
       "      <td>0.956182</td>\n",
       "      <td>0.810847</td>\n",
       "      <td>0.712963</td>\n",
       "    </tr>\n",
       "  </tbody>\n",
       "</table>\n",
       "</div>"
      ],
      "text/plain": [
       "       Model       roc     auprc        ap\n",
       "0        LOF  0.901961  0.857421  0.734893\n",
       "1  IsoForest  0.966653  0.670314  0.680550\n",
       "2    MISC-OD  0.956182  0.810847  0.712963"
      ]
     },
     "metadata": {},
     "output_type": "display_data"
    }
   ],
   "source": [
    "display(pd.DataFrame(baseline_data))"
   ]
  },
  {
   "cell_type": "markdown",
   "metadata": {},
   "source": [
    "## **Acknowledgements**\n",
    "\n",
    "Huang, Y., Liu, W., Li, S., Guo, Y., & Chen, W. (2023). *A Novel Unsupervised Outlier Detection Algorithm Based on Mutual Information and Reduced Spectral Clustering*. *Electronics*, 12(23). MDPI AG. Available at [https://www.mdpi.com/2079-9292/12/23](https://www.mdpi.com/2079-9292/12/23) (accessed May 14, 2024).\n",
    "\n",
    "Wolberg,William, Mangasarian,Olvi, Street,Nick, and Street,W.. (1995). Breast Cancer Wisconsin (Diagnostic). UCI Machine Learning Repository. https://doi.org/10.24432/C5DW2B.\n",
    "\n",
    "---\n",
    "\n",
    "*The original dataset was downloaded from Stony Brook University's ODDS library:* <br>\n",
    "*Rayana, S. (2016). ODDS Library [http://odds.cs.stonybrook.edu]. Stony Brook, NY: Stony Brook University, Department of Computer Science.*\n",
    "<br>\n",
    "\n",
    "Data retrieved from: <br>\n",
    "[Stony Brook University ODDS Library: Breast Cancer Wisconsin (Original) Dataset](https://odds.cs.stonybrook.edu/wbc/) (Accessed May 14, 2024)"
   ]
  }
 ],
 "metadata": {
  "kernelspec": {
   "display_name": "jojie",
   "language": "python",
   "name": "python3"
  },
  "language_info": {
   "codemirror_mode": {
    "name": "ipython",
    "version": 3
   },
   "file_extension": ".py",
   "mimetype": "text/x-python",
   "name": "python",
   "nbconvert_exporter": "python",
   "pygments_lexer": "ipython3",
   "version": "3.10.12"
  }
 },
 "nbformat": 4,
 "nbformat_minor": 2
}
